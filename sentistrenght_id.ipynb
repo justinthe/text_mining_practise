{
 "cells": [
  {
   "cell_type": "code",
   "execution_count": 1,
   "metadata": {},
   "outputs": [],
   "source": [
    "from sentistrength import sentistrength as ss"
   ]
  },
  {
   "cell_type": "code",
   "execution_count": 2,
   "metadata": {},
   "outputs": [],
   "source": [
    "senti = ss.init()"
   ]
  },
  {
   "cell_type": "code",
   "execution_count": 3,
   "metadata": {},
   "outputs": [],
   "source": [
    "f = open('txt_mine.txt', 'r')\n",
    "fcont = f.readlines()\n",
    "f.close()"
   ]
  },
  {
   "cell_type": "code",
   "execution_count": 4,
   "metadata": {},
   "outputs": [],
   "source": [
    "lst = []\n",
    "for t in fcont:\n",
    "    lst.append(senti.main(t))"
   ]
  },
  {
   "cell_type": "code",
   "execution_count": 5,
   "metadata": {
    "scrolled": true
   },
   "outputs": [
    {
     "name": "stdout",
     "output_type": "stream",
     "text": [
      "neutral\n",
      "neutral\n",
      "neutral\n",
      "neutral\n",
      "neutral\n",
      "neutral\n",
      "negative\n",
      "neutral\n",
      "positive\n",
      "neutral\n",
      "positive\n",
      "neutral\n",
      "neutral\n",
      "neutral\n",
      "neutral\n",
      "neutral\n",
      "positive\n",
      "neutral\n",
      "neutral\n",
      "neutral\n",
      "negative\n",
      "neutral\n",
      "neutral\n",
      "neutral\n",
      "positive\n",
      "neutral\n",
      "neutral\n",
      "neutral\n",
      "positive\n",
      "neutral\n",
      "neutral\n",
      "neutral\n",
      "neutral\n",
      "neutral\n",
      "negative\n",
      "neutral\n",
      "neutral\n",
      "neutral\n",
      "negative\n",
      "neutral\n",
      "negative\n",
      "neutral\n",
      "neutral\n",
      "neutral\n",
      "neutral\n",
      "neutral\n",
      "neutral\n",
      "neutral\n",
      "neutral\n",
      "neutral\n",
      "neutral\n",
      "neutral\n",
      "neutral\n",
      "neutral\n",
      "neutral\n",
      "neutral\n",
      "neutral\n",
      "neutral\n",
      "neutral\n",
      "neutral\n",
      "neutral\n",
      "neutral\n",
      "neutral\n",
      "neutral\n",
      "neutral\n",
      "neutral\n",
      "positive\n",
      "neutral\n",
      "neutral\n",
      "neutral\n",
      "neutral\n",
      "neutral\n",
      "neutral\n",
      "neutral\n",
      "neutral\n",
      "neutral\n",
      "neutral\n",
      "neutral\n",
      "neutral\n",
      "neutral\n",
      "neutral\n",
      "neutral\n",
      "neutral\n",
      "neutral\n",
      "neutral\n",
      "neutral\n",
      "neutral\n",
      "neutral\n",
      "positive\n",
      "neutral\n",
      "neutral\n",
      "neutral\n",
      "neutral\n",
      "positive\n",
      "negative\n",
      "neutral\n"
     ]
    }
   ],
   "source": [
    "for x in lst:\n",
    "    # x[1] = text\n",
    "\t# x[2] = max positive\n",
    "\t# x[3] = max negative\n",
    "\t# x[4] = result\n",
    "    print(x[3])"
   ]
  },
  {
   "cell_type": "code",
   "execution_count": null,
   "metadata": {},
   "outputs": [],
   "source": []
  }
 ],
 "metadata": {
  "kernelspec": {
   "display_name": "Python 3",
   "language": "python",
   "name": "python3"
  },
  "language_info": {
   "codemirror_mode": {
    "name": "ipython",
    "version": 3
   },
   "file_extension": ".py",
   "mimetype": "text/x-python",
   "name": "python",
   "nbconvert_exporter": "python",
   "pygments_lexer": "ipython3",
   "version": "3.7.0"
  }
 },
 "nbformat": 4,
 "nbformat_minor": 2
}
