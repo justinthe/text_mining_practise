{
 "cells": [
  {
   "cell_type": "code",
   "execution_count": 1,
   "metadata": {},
   "outputs": [],
   "source": [
    "import nltk, re, string\n",
    "from collections import Counter"
   ]
  },
  {
   "cell_type": "code",
   "execution_count": 2,
   "metadata": {},
   "outputs": [],
   "source": [
    "def hanya_huruf(input):\n",
    "    r = re.match('^[a-zA-Z]+$', input)\n",
    "    if r == None:\n",
    "        return False\n",
    "    else:\n",
    "        return True"
   ]
  },
  {
   "cell_type": "code",
   "execution_count": 3,
   "metadata": {},
   "outputs": [],
   "source": [
    "infile = 'txt_mine.txt'\n",
    "words = re.findall(r'\\w+', open(infile).read().lower())"
   ]
  },
  {
   "cell_type": "code",
   "execution_count": 4,
   "metadata": {},
   "outputs": [],
   "source": [
    "wordfreqs = Counter(words)"
   ]
  },
  {
   "cell_type": "code",
   "execution_count": 5,
   "metadata": {},
   "outputs": [
    {
     "name": "stdout",
     "output_type": "stream",
     "text": [
      "jokowi 49\n",
      "presiden 15\n",
      "di 16\n",
      "mei 14\n",
      "2019 14\n",
      "yang 11\n"
     ]
    }
   ],
   "source": [
    "for word, count in wordfreqs.items():\n",
    "    if count > 10:\n",
    "        print(word, count)"
   ]
  },
  {
   "cell_type": "code",
   "execution_count": 6,
   "metadata": {},
   "outputs": [],
   "source": [
    "wordcommon = Counter(words).most_common(15)"
   ]
  },
  {
   "cell_type": "code",
   "execution_count": 9,
   "metadata": {},
   "outputs": [
    {
     "data": {
      "text/plain": [
       "[('jokowi', 49),\n",
       " ('di', 16),\n",
       " ('presiden', 15),\n",
       " ('mei', 14),\n",
       " ('2019', 14),\n",
       " ('yang', 11),\n",
       " ('dan', 10),\n",
       " ('17', 10),\n",
       " ('wib', 10),\n",
       " ('video', 9),\n",
       " ('kubu', 9),\n",
       " ('mandalika', 8),\n",
       " ('untuk', 8),\n",
       " ('prabowo', 8),\n",
       " ('penggal', 7)]"
      ]
     },
     "execution_count": 9,
     "metadata": {},
     "output_type": "execute_result"
    }
   ],
   "source": [
    "wordcommon"
   ]
  },
  {
   "cell_type": "code",
   "execution_count": 13,
   "metadata": {},
   "outputs": [
    {
     "name": "stdout",
     "output_type": "stream",
     "text": [
      "jokowi\n",
      "presiden\n",
      "mei\n",
      "2019\n",
      "17\n",
      "wib\n",
      "video\n",
      "kubu\n",
      "mandalika\n",
      "prabowo\n",
      "penggal\n"
     ]
    }
   ],
   "source": [
    "for word, val in wordcommon:\n",
    "    if hanya_huruf(word) and len(word) > 1 and word != 'Iing':\n",
    "        word = word.strip(string.punctuation).lower()\n",
    "    if word not in nltk.corpus.stopwords.words('indonesian'):\n",
    "        print(word)"
   ]
  },
  {
   "cell_type": "code",
   "execution_count": 11,
   "metadata": {},
   "outputs": [
    {
     "data": {
      "text/plain": [
       "'penggal'"
      ]
     },
     "execution_count": 11,
     "metadata": {},
     "output_type": "execute_result"
    }
   ],
   "source": [
    "word"
   ]
  },
  {
   "cell_type": "code",
   "execution_count": null,
   "metadata": {},
   "outputs": [],
   "source": []
  }
 ],
 "metadata": {
  "kernelspec": {
   "display_name": "Python 3",
   "language": "python",
   "name": "python3"
  },
  "language_info": {
   "codemirror_mode": {
    "name": "ipython",
    "version": 3
   },
   "file_extension": ".py",
   "mimetype": "text/x-python",
   "name": "python",
   "nbconvert_exporter": "python",
   "pygments_lexer": "ipython3",
   "version": "3.6.7"
  }
 },
 "nbformat": 4,
 "nbformat_minor": 2
}
