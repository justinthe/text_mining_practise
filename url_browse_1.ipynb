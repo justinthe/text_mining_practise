{
 "cells": [
  {
   "cell_type": "code",
   "execution_count": 13,
   "metadata": {},
   "outputs": [],
   "source": [
    "from selenium import webdriver\n",
    "from selenium.common.exceptions import TimeoutException, InvalidSessionIdException\n",
    "import sys, getopt"
   ]
  },
  {
   "cell_type": "code",
   "execution_count": 2,
   "metadata": {},
   "outputs": [],
   "source": [
    "# firefox_profile = webdriver.FirefoxProfile()\n",
    "# firefox_profile.set_preference('permissions.default.image', 2)\n",
    "# firefox_profile.set_preference('dom.ipc.plugins.enabled.libflashplayer.so', 'false')\n",
    "# driver = webdriver.Firefox(firefox_profile=firefox_profile)"
   ]
  },
  {
   "cell_type": "code",
   "execution_count": 17,
   "metadata": {},
   "outputs": [
    {
     "name": "stdout",
     "output_type": "stream",
     "text": [
      "['https://www.tempo.co/tag/jokowi', 'https://news.detik.com/berita/d-4552517/jokowi-segera-sahkan-100-formasi-baru-untuk-perwira-tinggi-tni', 'https://www.detik.com/tag/jokowi']\n"
     ]
    }
   ],
   "source": [
    "infile = 'result.txt'\n",
    "with open(infile) as f:\n",
    "    content = f.read().splitlines()\n",
    "    print(content)\n",
    "f.close()"
   ]
  },
  {
   "cell_type": "code",
   "execution_count": 18,
   "metadata": {},
   "outputs": [
    {
     "name": "stdout",
     "output_type": "stream",
     "text": [
      "Timeout error:  Message: Timeout loading page after 200000ms\n",
      "\n",
      "finish writing\n"
     ]
    }
   ],
   "source": [
    "firefox_profile = webdriver.FirefoxProfile()\n",
    "firefox_profile.set_preference('permissions.default.image', 2)\n",
    "firefox_profile.set_preference('dom.ipc.plugins.enabled.libflashplayer.so', 'false')\n",
    "firefox_profile.set_preference('webdriver.load.strategy', 'unstable')\n",
    "driver = webdriver.Firefox(firefox_profile=firefox_profile)\n",
    "driver.set_page_load_timeout(200)\n",
    "\n",
    "outfile = 'txt_mine.txt'\n",
    "f = open(outfile, 'w+')\n",
    "for u in content:\n",
    "    try:\n",
    "        driver.get(u)\n",
    "        elems = driver.find_element_by_tag_name('body').text\n",
    "        f.write(elems.encode('ascii', 'ignore').decode('ascii'))\n",
    "    except TimeoutException as e:\n",
    "        print(\"Timeout error: \", e)\n",
    "        # print(\"Raise error: \", sys.exc_info()[0])\n",
    "    except InvalidSessionIdException as e:\n",
    "        print(\"Invalid session id: \", e)\n",
    "    # finally:\n",
    "        \n",
    "driver.close()        \n",
    "print('finish writing')"
   ]
  },
  {
   "cell_type": "code",
   "execution_count": 19,
   "metadata": {},
   "outputs": [],
   "source": [
    "f = open(outfile, 'r')\n",
    "lines = f.readlines()\n",
    "f.close()"
   ]
  },
  {
   "cell_type": "code",
   "execution_count": 20,
   "metadata": {},
   "outputs": [],
   "source": [
    "f = open(outfile, \"w\")\n",
    "for line in lines:\n",
    "    if len(line.split()) > 5:\n",
    "        f.write(line)\n",
    "f.close()"
   ]
  },
  {
   "cell_type": "code",
   "execution_count": null,
   "metadata": {},
   "outputs": [],
   "source": []
  }
 ],
 "metadata": {
  "kernelspec": {
   "display_name": "Python 3",
   "language": "python",
   "name": "python3"
  },
  "language_info": {
   "codemirror_mode": {
    "name": "ipython",
    "version": 3
   },
   "file_extension": ".py",
   "mimetype": "text/x-python",
   "name": "python",
   "nbconvert_exporter": "python",
   "pygments_lexer": "ipython3",
   "version": "3.7.0"
  }
 },
 "nbformat": 4,
 "nbformat_minor": 2
}
