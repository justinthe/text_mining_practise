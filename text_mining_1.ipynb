{
 "cells": [
  {
   "cell_type": "code",
   "execution_count": 1,
   "metadata": {},
   "outputs": [],
   "source": [
    "import sys\n",
    "import time\n",
    "from selenium import webdriver"
   ]
  },
  {
   "cell_type": "code",
   "execution_count": 2,
   "metadata": {},
   "outputs": [],
   "source": [
    "def start_browser():\n",
    "    br = webdriver.Firefox()\n",
    "    br.implicitly_wait(10)\n",
    "    return br"
   ]
  },
  {
   "cell_type": "code",
   "execution_count": 3,
   "metadata": {},
   "outputs": [],
   "source": [
    "def scrape_results(br):\n",
    "    #links = br.find_elements_by_xpath(\"//h3[@class='r']/a[@href]\")\n",
    "    links = br.find_elements_by_xpath(\"//*[@class='r']/a[@href]\")\n",
    "    results = []\n",
    "    for link in links:\n",
    "        title = link.text.encode('utf8')\n",
    "        url = link.get_attribute('href')\n",
    "        title_url = (title, url)\n",
    "        results.append(title_url)\n",
    "    return results"
   ]
  },
  {
   "cell_type": "code",
   "execution_count": 4,
   "metadata": {},
   "outputs": [],
   "source": [
    "def go_to_page(br, page_num, search_terms):\n",
    "    page_num = page_num - 1\n",
    "    start_results = page_num * 100\n",
    "    start_results = str(start_results)\n",
    "    url = 'https://www.google.com/webhp?#num=100&start='+start_results+'&q='+search_terms\n",
    "    br.get(url)\n",
    "    time.sleep(2)"
   ]
  },
  {
   "cell_type": "code",
   "execution_count": 5,
   "metadata": {},
   "outputs": [],
   "source": [
    "#br = start_browser()\n",
    "search_term = 'jokowi'\n",
    "pages = 1"
   ]
  },
  {
   "cell_type": "code",
   "execution_count": 7,
   "metadata": {},
   "outputs": [
    {
     "name": "stdout",
     "output_type": "stream",
     "text": [
      "done\n"
     ]
    }
   ],
   "source": [
    "br = start_browser()\n",
    "all_results = []\n",
    "\n",
    "f = open(\"result.txt\",\"w+\")\n",
    "\n",
    "for page_num in range(pages):\n",
    "    page_num = page_num + 1\n",
    "    go_to_page(br, page_num, search_term)\n",
    "    title_urls = scrape_results(br)\n",
    "    for title in title_urls:\n",
    "        all_results.append(title)\n",
    "    \n",
    "    for result in all_results:\n",
    "        title = result[0]\n",
    "        url = result[1]\n",
    "        # tobewritten = '[+] ' + str(title) + '-- ' + str(url) + '\\n'\n",
    "        tobewritten = str(url) + '\\n'\n",
    "        f.write(tobewritten)\n",
    "        # print('[+]', title, '--', url)\n",
    "        # print(tobewritten)\n",
    "    f.close()\n",
    "    print(\"done\")"
   ]
  },
  {
   "cell_type": "code",
   "execution_count": null,
   "metadata": {},
   "outputs": [],
   "source": []
  },
  {
   "cell_type": "code",
   "execution_count": null,
   "metadata": {},
   "outputs": [],
   "source": []
  }
 ],
 "metadata": {
  "kernelspec": {
   "display_name": "Python 3",
   "language": "python",
   "name": "python3"
  },
  "language_info": {
   "codemirror_mode": {
    "name": "ipython",
    "version": 3
   },
   "file_extension": ".py",
   "mimetype": "text/x-python",
   "name": "python",
   "nbconvert_exporter": "python",
   "pygments_lexer": "ipython3",
   "version": "3.7.0"
  }
 },
 "nbformat": 4,
 "nbformat_minor": 2
}
