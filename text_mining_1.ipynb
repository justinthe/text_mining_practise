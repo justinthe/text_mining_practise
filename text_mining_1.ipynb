{
 "cells": [
  {
   "cell_type": "code",
   "execution_count": 2,
   "metadata": {},
   "outputs": [],
   "source": [
    "import sys\n",
    "import time\n",
    "from selenium import webdriver"
   ]
  },
  {
   "cell_type": "code",
   "execution_count": 3,
   "metadata": {},
   "outputs": [],
   "source": [
    "def start_browser():\n",
    "    br = webdriver.Firefox()\n",
    "    br.implicitly_wait(10)\n",
    "    return br"
   ]
  },
  {
   "cell_type": "code",
   "execution_count": 20,
   "metadata": {},
   "outputs": [],
   "source": [
    "def scrape_results(br):\n",
    "    #links = br.find_elements_by_xpath(\"//h3[@class='r']/a[@href]\")\n",
    "    links = br.find_elements_by_xpath(\"//*[@class='r']/a[@href]\")\n",
    "    results = []\n",
    "    for link in links:\n",
    "        title = link.text.encode('utf8')\n",
    "        url = link.get_attribute('href')\n",
    "        title_url = (title, url)\n",
    "        results.append(title_url)\n",
    "    return results"
   ]
  },
  {
   "cell_type": "code",
   "execution_count": 5,
   "metadata": {},
   "outputs": [],
   "source": [
    "def go_to_page(br, page_num, search_terms):\n",
    "    page_num = page_num - 1\n",
    "    start_results = page_num * 100\n",
    "    start_results = str(start_results)\n",
    "    url = 'https://www.google.com/webhp?#num=100&start='+start_results+'&q='+search_terms\n",
    "    br.get(url)\n",
    "    time.sleep(2)"
   ]
  },
  {
   "cell_type": "code",
   "execution_count": 8,
   "metadata": {},
   "outputs": [],
   "source": [
    "#br = start_browser()\n",
    "search_term = 'jokowi'\n",
    "pages = 1"
   ]
  },
  {
   "cell_type": "code",
   "execution_count": 21,
   "metadata": {},
   "outputs": [
    {
     "name": "stdout",
     "output_type": "stream",
     "text": [
      "45 1\n",
      "[+] b'TNI-Polri Gelar Buka Puasa Bersama Jokowi di Monas - detikNews\\nhttps://news.detik.com/berita/d.../tni-polri-gelar-buka-puasa-bersama-jokowi-di-monas' -- https://news.detik.com/berita/d-4552418/tni-polri-gelar-buka-puasa-bersama-jokowi-di-monas\n",
      "[+] b'Berita Harian Jokowi Terbaru dan Terlengkap - Detik.com\\nhttps://www.detik.com/tag/jokowi' -- https://www.detik.com/tag/jokowi\n",
      "[+] b'Kubu Jokowi Buka 4 Kejanggalan Data Kecurangan Versi Kubu ...\\nhttps://pilpres.tempo.co \\xe2\\x80\\xba pilpres' -- https://pilpres.tempo.co/read/1206034/kubu-jokowi-buka-4-kejanggalan-data-kecurangan-versi-kubu-prabowo\n",
      "[+] b'Berita Terbaru Jokowi - Tempo.co\\nhttps://www.tempo.co/tag/jokowi' -- https://www.tempo.co/tag/jokowi\n",
      "[+] b'Joko Widodo (@jokowi) \\xe2\\x80\\xa2 Foto dan video Instagram\\nhttps://www.instagram.com/jokowi/?hl=id' -- https://www.instagram.com/jokowi/?hl=id\n",
      "[+] b'Joko Widodo - Wikipedia bahasa Indonesia, ensiklopedia bebas\\nhttps://id.wikipedia.org/wiki/Joko_Widodo' -- https://id.wikipedia.org/wiki/Joko_Widodo\n",
      "[+] b'Berita Harian Jokowi - CNN Indonesia\\nhttps://www.cnnindonesia.com/tag/jokowi' -- https://www.cnnindonesia.com/tag/jokowi\n",
      "[+] b'Jokowi - Joko Widodo - Rekapitulasi Kota Makassar Selesai, Ini ...\\nhttps://www.merdeka.com/joko-widodo/' -- https://www.merdeka.com/joko-widodo/\n",
      "[+] b'Kumpulan Berita Harian Jokowi - Tagar\\nhttps://www.tagar.id \\xe2\\x80\\xba tag' -- https://www.tagar.id/tag/jokowi\n",
      "[+] b'Borong 16 Juta Suara, Prabowo Taklukan Jokowi di Jabar\\nhttps://www.cnnindonesia.com/.../borong-16-juta-suara-prabowo-taklukan-jokowi-di-...' -- https://www.cnnindonesia.com/nasional/20190516155454-32-395478/borong-16-juta-suara-prabowo-taklukan-jokowi-di-jabar\n",
      "[+] b'Berita Harian Jokowi Terbaru Hari Ini - Kompas.com\\nhttps://indeks.kompas.com/tag/Jokowi' -- https://indeks.kompas.com/tag/Jokowi\n",
      "[+] b'Presiden Joko Widodo - Home | Facebook\\nhttps://www.facebook.com \\xe2\\x80\\xba Pages \\xe2\\x80\\xba Interest' -- https://www.facebook.com/Jokowi/\n",
      "[+] b'Berita Jokowi Hari Ini - Kabar Terbaru Terkini | Liputan6.com\\nhttps://www.liputan6.com/tag/jokowi' -- https://www.liputan6.com/tag/jokowi\n",
      "[+] b'Jokowi - Tribun Timur\\nmakassar.tribunnews.com/tag/jokowi' -- http://makassar.tribunnews.com/tag/jokowi\n",
      "[+] b'Rekapitulasi 26 Provinsi Selesai, Menang Jokowi atau Prabowo?\\nhttps://www.cnbcindonesia.com/.../rekapitulasi-26-provinsi-selesai-menang-jokowi-ata...' -- https://www.cnbcindonesia.com/news/20190516135623-4-72938/rekapitulasi-26-provinsi-selesai-menang-jokowi-atau-prabowo\n",
      "[+] b'Berita Terkini JOKOWI: Jokowi Sebut Ekonomi Syariah Indonesia Bisa ...\\nhttps://www.suara.com/tag/jokowi' -- https://www.suara.com/tag/jokowi\n",
      "[+] b'Berita Jokowi terbaru hari ini - JPNN.com\\nhttps://www.jpnn.com/tag/jokowi' -- https://www.jpnn.com/tag/jokowi\n",
      "[+] b'Presiden Joko Widodo - YouTube\\nhttps://www.youtube.com/channel/UCPeG-JX2dB90P3RgZbVNheg' -- https://www.youtube.com/channel/UCPeG-JX2dB90P3RgZbVNheg\n",
      "[+] b'Kumpulan Artikel Terbaru Jokowi - Kompasiana.com\\nhttps://www.kompasiana.com/tag/jokowi' -- https://www.kompasiana.com/tag/jokowi\n",
      "[+] b'Joko Widodo - kumparan\\nhttps://kumparan.com/topic/presiden-jokowi' -- https://kumparan.com/topic/presiden-jokowi\n",
      "[+] b'Kumpulan Berita : Jokowi | Dream.co.id\\nhttps://www.dream.co.id/tag/jokowi/' -- https://www.dream.co.id/tag/jokowi/\n",
      "[+] b'Jokowi Tegaskan TNI dan Polri Solid Jaga Keamanan : Okezone News\\nhttps://news.okezone.com \\xe2\\x80\\xba News \\xe2\\x80\\xba Nasional' -- https://news.okezone.com/read/2019/05/16/337/2056650/jokowi-tegaskan-tni-dan-polri-solid-jaga-keamanan\n",
      "[+] b'Isu PKI Buat Jokowi - Historia\\nhttps://historia.id \\xe2\\x80\\xba Politik' -- https://historia.id/politik/articles/isu-pki-buat-jokowi-DpwEZ\n",
      "[+] b'Lawan Terberat Jokowi, Adalah Jokowi | Hersubeno Point\\nhttps://www.hersubenoarief.com \\xe2\\x80\\xba Artikel' -- https://www.hersubenoarief.com/artikel/lawan-terberat-jokowi-adalah-jokowi/\n",
      "[+] b'Politik Belah Bambu Jokowi: Dari Mafia Politik Sampai Islamfobia\\nhttps://books.google.co.id/books?isbn=602736341X' -- https://books.google.co.id/books?id=c293CwAAQBAJ&pg=PA53&lpg=PA53&dq=jokowi&source=bl&ots=OsENqbWOqR&sig=ACfU3U33cejpwjr5RpTz91FbwExN-hfhIw&hl=id&sa=X&ved=2ahUKEwjS3qOCl6DiAhXPfn0KHQYTBvYQ6AEwM3oECDEQAQ\n",
      "[+] b'Indonesia Memilih Jokowi - Halaman 235 - Hasil Google Books\\nhttps://books.google.co.id/books?isbn=6020304744' -- https://books.google.co.id/books?id=sqBLDwAAQBAJ&pg=PA235&lpg=PA235&dq=jokowi&source=bl&ots=meyRwUojmf&sig=ACfU3U2oT6_WjBDOmp7xS8hS9E81kXu7yA&hl=id&sa=X&ved=2ahUKEwjS3qOCl6DiAhXPfn0KHQYTBvYQ6AEwNHoECDMQAQ\n",
      "[+] b'Jokowi People Power - Halaman xv - Hasil Google Books\\nhttps://books.google.co.id/books?isbn=6020310647' -- https://books.google.co.id/books?id=ExdIDwAAQBAJ&pg=PR15&lpg=PR15&dq=jokowi&source=bl&ots=eHPXmZ_J_d&sig=ACfU3U1dcRRxgyaiNYjxrp2I4XND9PLL_A&hl=id&sa=X&ved=2ahUKEwjS3qOCl6DiAhXPfn0KHQYTBvYQ6AEwNXoECCkQAQ\n",
      "[+] b'Jokowi - Spirit Bantaran Kali Anyar - Halaman vi - Hasil Google Books\\nhttps://books.google.co.id/books?isbn=6020033856' -- https://books.google.co.id/books?id=rLc8DwAAQBAJ&pg=PR6&lpg=PR6&dq=jokowi&source=bl&ots=efwX5Ci4jp&sig=ACfU3U1Imnz-FrXdWeImH6eXZegoYquTpA&hl=id&sa=X&ved=2ahUKEwjS3qOCl6DiAhXPfn0KHQYTBvYQ6AEwNnoECDIQAQ\n",
      "[+] b'Selamat Datang Presiden Jokowi - Halaman 338 - Hasil Google Books\\nhttps://books.google.co.id/books?isbn=6022910749' -- https://books.google.co.id/books?id=MjfWBAAAQBAJ&pg=PA338&lpg=PA338&dq=jokowi&source=bl&ots=Hkzl3uEvoM&sig=ACfU3U2bPHIXeaYj0sDyBx3km-xdXhJ_JQ&hl=id&sa=X&ved=2ahUKEwjS3qOCl6DiAhXPfn0KHQYTBvYQ6AEwN3oECDAQAQ\n",
      "[+] b\"Polisi Tangkap Pembuat Video 'Penggal Kepala Jokowi' - Jawa Pos\\nhttps://www.jawapos.com/.../polisi-tangkap-pembuat-video-penggal-kepala-jokowi/\" -- https://www.jawapos.com/nasional/hukum-kriminal/15/05/2019/polisi-tangkap-pembuat-video-penggal-kepala-jokowi/\n",
      "[+] b'Jokowi Itu, Indonesia Banget!! - Warta Ekonomi\\nhttps://www.wartaekonomi.co.id/read214258/jokowi-itu-indonesia-banget.html' -- https://www.wartaekonomi.co.id/read214258/jokowi-itu-indonesia-banget.html\n",
      "[+] b'Jokowi - Kumpulan Artikel Jokowi - KlikDokter\\nhttps://www.klikdokter.com/tag/jokowi' -- https://www.klikdokter.com/tag/jokowi\n",
      "[+] b'Jokowi, Hendropriyono, dan Wiranto Tanggapi Prabowo | Republika ...\\nhttps://nasional.republika.co.id/.../jokowi-hendropriyono-dan-wiranto-tanggapi-prabo...' -- https://nasional.republika.co.id/berita/nasional/news-analysis/prk1sq409/jokowi-hendropriyono-dan-wiranto-tanggapi-prabowo\n",
      "[+] b'Jokowi Tanggapi Prabowo Tolak Hasil Pemilu - BeritaSatu.com\\nhttps://www.beritasatu.com/politik/.../jokowi-tanggapi-prabowo-tolak-hasil-pemilu' -- https://www.beritasatu.com/politik/554365/jokowi-tanggapi-prabowo-tolak-hasil-pemilu\n",
      "[+] b'Jadi Buzzer Jokowi Membuat Polisi Tak Segera Periksa Ulin Yusron ...\\nhttps://tirto.id/jadi-buzzer-jokowi-membuat-polisi-tak-segera-periksa-ulin-yusron-dFXT' -- https://tirto.id/jadi-buzzer-jokowi-membuat-polisi-tak-segera-periksa-ulin-yusron-dFXT\n",
      "[+] b\"'People Power' Cukup Kuat untuk Akhiri Karier Politik Jokowi\\nhttps://www.matamatapolitik.com/polling-in-depth-dampak-people-power-cukup-kuat...\" -- https://www.matamatapolitik.com/polling-in-depth-dampak-people-power-cukup-kuat-untuk-akhiri-karier-politik-jokowi/\n",
      "[+] b'Ancam Penggal Kepala Presiden Jokowi, Nasib Sang Pria Kini Di ...\\nhttps://pop.grid.id \\xe2\\x80\\xba Peristiwa' -- https://pop.grid.id/read/301723646/ancam-penggal-kepala-presiden-jokowi-nasib-sang-pria-kini-di-ujung-tanduk?page=all\n",
      "[+] b'Biker Banget, Bang Jack Polisi yang Menangkap Pengancam Penggal ...\\nhttps://www.motorplus-online.com \\xe2\\x80\\xba MOTOLIFE' -- https://www.motorplus-online.com/read/251725036/biker-banget-bang-jack-polisi-yang-menangkap-pengancam-penggal-kepala-presiden-jokowi?page=all\n",
      "[+] b'Jokowi - Video clip hot of UNITED KINGDOM\\nhttps://gbclip.com/category/Jokowi' -- https://gbclip.com/category/Jokowi\n",
      "[+] b'Joko Widodo - SINDOnews\\nhttps://nasional.sindonews.com \\xe2\\x80\\xba tweet of the day' -- https://nasional.sindonews.com/read/1018615/66/joko-widodo-1435665321\n",
      "[+] b'Jokowidodo | 2019 Tetap jokowi\\njokowi2periode.online/' -- http://jokowi2periode.online/\n",
      "[+] b'Kawal Joko Widodo, Jokowi, Presiden Republik Indonesia\\nhttps://www.presidenjokowi.org/' -- https://www.presidenjokowi.org/\n",
      "[+] b'Berita Kumpulan Joko Widodo Terkini | dafasport - dafa casino\\nwww.beijinglongzai.com/tag/joko-widodo' -- http://www.beijinglongzai.com/tag/joko-widodo\n",
      "[+] b'Jokowi\\njokowi-widodo.blogspot.com/' -- http://jokowi-widodo.blogspot.com/\n",
      "[+] b'Jokowi Terbaru\\nhttps://www.jokowiterkini.com/p/jokowi-terbaru.html' -- https://www.jokowiterkini.com/p/jokowi-terbaru.html\n"
     ]
    }
   ],
   "source": [
    "br = start_browser()\n",
    "all_results = []\n",
    "for page_num in range(pages):\n",
    "    page_num = page_num + 1\n",
    "    go_to_page(br, page_num, search_term)\n",
    "    title_urls = scrape_results(br)\n",
    "    for title in title_urls:\n",
    "        all_results.append(title)\n",
    "    \n",
    "    for result in all_results:\n",
    "        title = result[0]\n",
    "        url = result[1]\n",
    "        print('[+]', title, '--', url)"
   ]
  },
  {
   "cell_type": "code",
   "execution_count": null,
   "metadata": {},
   "outputs": [],
   "source": []
  },
  {
   "cell_type": "code",
   "execution_count": null,
   "metadata": {},
   "outputs": [],
   "source": []
  }
 ],
 "metadata": {
  "kernelspec": {
   "display_name": "Python 3",
   "language": "python",
   "name": "python3"
  },
  "language_info": {
   "codemirror_mode": {
    "name": "ipython",
    "version": 3
   },
   "file_extension": ".py",
   "mimetype": "text/x-python",
   "name": "python",
   "nbconvert_exporter": "python",
   "pygments_lexer": "ipython3",
   "version": "3.7.0"
  }
 },
 "nbformat": 4,
 "nbformat_minor": 2
}
